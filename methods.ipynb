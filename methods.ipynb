{
 "cells": [
  {
   "cell_type": "markdown",
   "metadata": {},
   "source": [
    "# Authenticate Twitter account"
   ]
  },
  {
   "cell_type": "code",
   "execution_count": 1,
   "metadata": {},
   "outputs": [],
   "source": [
    "import tweepy"
   ]
  },
  {
   "cell_type": "code",
   "execution_count": 2,
   "metadata": {},
   "outputs": [
    {
     "name": "stdout",
     "output_type": "stream",
     "text": [
      "Authentication OK\n"
     ]
    }
   ],
   "source": [
    "from keys import *\n",
    "\n",
    "auth = tweepy.OAuthHandler(API_KEY, API_SECRET_KEY)\n",
    "auth.set_access_token(TOKEN, TOKEN_SECRET)\n",
    "\n",
    "api = tweepy.API(auth)\n",
    "\n",
    "try:\n",
    "    api.verify_credentials()\n",
    "    print(\"Authentication OK\")\n",
    "except:\n",
    "    print(\"Authentication Error\")"
   ]
  },
  {
   "cell_type": "markdown",
   "metadata": {},
   "source": [
    "# Scrape eBird webpage"
   ]
  },
  {
   "cell_type": "code",
   "execution_count": 3,
   "metadata": {},
   "outputs": [],
   "source": [
    "import urllib.request\n",
    "import requests\n",
    "import time\n",
    "from bs4 import BeautifulSoup"
   ]
  },
  {
   "cell_type": "markdown",
   "metadata": {},
   "source": [
    "## Verify a checklist exists"
   ]
  },
  {
   "cell_type": "code",
   "execution_count": 4,
   "metadata": {},
   "outputs": [],
   "source": [
    "def check_checklist_exists(sub_id):\n",
    "    '''\n",
    "    Check that an eBird checklist exists\n",
    "    \n",
    "    Args:\n",
    "        sub_id (int): submission id\n",
    "    \n",
    "    Returns:\n",
    "        url if checklist exists\n",
    "        False if checklist doesn't exist\n",
    "    '''\n",
    "    \n",
    "    sub_id = 'S' + sub_id\n",
    "    checklist_start = 'https://ebird.org/view/checklist/'\n",
    "    url = checklist_start + sub_id\n",
    "    \n",
    "    response = requests.get(url)\n",
    "    \n",
    "    try:\n",
    "        assert str(response) == '<Response [200]>'\n",
    "        return response\n",
    "    except:\n",
    "        assert str(response) == '<Response [400]>'\n",
    "        return False"
   ]
  },
  {
   "cell_type": "code",
   "execution_count": 5,
   "metadata": {},
   "outputs": [],
   "source": [
    "import random"
   ]
  },
  {
   "cell_type": "code",
   "execution_count": 6,
   "metadata": {},
   "outputs": [
    {
     "data": {
      "text/plain": [
       "9"
      ]
     },
     "execution_count": 6,
     "metadata": {},
     "output_type": "execute_result"
    }
   ],
   "source": [
    "def get_soup(response):\n",
    "    return BeautifulSoup(response.text, \"html.parser\")\n",
    "\n",
    "numbers = [str(random.randint(0, 59344389)) for _ in range(20)]\n",
    "soups = []\n",
    "for number in numbers[:10]:\n",
    "    time.sleep(1) # Wait between requests so not overloading eBird\n",
    "    response = check_checklist_exists(number)\n",
    "    if response: \n",
    "        soups.append(get_soup(response))\n",
    "        \n",
    "len(soups)"
   ]
  },
  {
   "cell_type": "markdown",
   "metadata": {},
   "source": [
    "## Parse existing checklist"
   ]
  },
  {
   "cell_type": "markdown",
   "metadata": {},
   "source": [
    "### Get region"
   ]
  },
  {
   "cell_type": "code",
   "execution_count": 7,
   "metadata": {},
   "outputs": [],
   "source": [
    "def add_to_region(region, to_add, sep = ', '):\n",
    "    '''\n",
    "    Append to a string with a separator if necessary\n",
    "    \n",
    "    Inputs:\n",
    "        region: the string to append to\n",
    "        to_add: the thing to append to the string\n",
    "        sep: the separator to add, if string\n",
    "            already contains text\n",
    "    \n",
    "    Returns:\n",
    "        the string with added text\n",
    "    '''\n",
    "    \n",
    "    # If `region` already contains something\n",
    "    if bool(region):\n",
    "        region += sep + to_add\n",
    "        return region\n",
    "    else:\n",
    "        region += to_add\n",
    "        return region"
   ]
  },
  {
   "cell_type": "code",
   "execution_count": 8,
   "metadata": {},
   "outputs": [],
   "source": [
    "def get_region(soup):\n",
    "    \n",
    "    region = ''\n",
    "    \n",
    "    # Find the region as linked to in the eBird text\n",
    "    \n",
    "    for link in soup.findAll('a'):\n",
    "        # Find whether region is in the link address\n",
    "        try:\n",
    "            region_in = \"region\" in link['href']\n",
    "        except:\n",
    "            # No href tag\n",
    "            continue\n",
    "\n",
    "        # If region is in the link address, add it to the region string\n",
    "        if region_in:\n",
    "            string = link.string\n",
    "            # For links in format <a href=''>string</a>\n",
    "            if(bool(string)):\n",
    "                region = add_to_region(region, string)\n",
    "\n",
    "            # For links in format <a href=''><span>string</span></a>\n",
    "            else:\n",
    "                string = link.find('span').string\n",
    "                region = add_to_region(region, string)\n",
    "\n",
    "    return region"
   ]
  },
  {
   "cell_type": "code",
   "execution_count": 9,
   "metadata": {},
   "outputs": [
    {
     "name": "stdout",
     "output_type": "stream",
     "text": [
      "Dane County, Wisconsin, United States\n",
      "Florence County, Wisconsin, United States\n",
      "Montréal County, Quebec, Canada\n",
      "Aruba, Aruba\n",
      "Grayson County, Texas, United States\n",
      "Grand Isle County, Vermont, United States\n",
      "North Goa County, Goa, India\n",
      "Barton County, Kansas, United States\n",
      "Ottawa County, Michigan, United States\n"
     ]
    }
   ],
   "source": [
    "for soup in soups:\n",
    "    print(get_region(soup))"
   ]
  },
  {
   "cell_type": "markdown",
   "metadata": {},
   "source": [
    "### Get number of species"
   ]
  },
  {
   "cell_type": "code",
   "execution_count": 10,
   "metadata": {},
   "outputs": [],
   "source": [
    "def get_species(soup):\n",
    "    for span in soup.findAll('span'):\n",
    "        try:\n",
    "            span_class = span['class'][0]\n",
    "        except:\n",
    "            # No class tag for this span\n",
    "            continue\n",
    "\n",
    "        if span_class == 'StatsIcon-stat-count':\n",
    "            return span.string"
   ]
  },
  {
   "cell_type": "code",
   "execution_count": 13,
   "metadata": {},
   "outputs": [
    {
     "name": "stdout",
     "output_type": "stream",
     "text": [
      "4\n",
      "49\n",
      "37\n",
      "5\n",
      "66\n",
      "27\n",
      "6\n",
      "9\n",
      "12\n"
     ]
    }
   ],
   "source": [
    "for soup in soups:\n",
    "    print(get_species(soup))"
   ]
  }
 ],
 "metadata": {
  "kernelspec": {
   "display_name": "Python 3",
   "language": "python",
   "name": "python3"
  },
  "language_info": {
   "codemirror_mode": {
    "name": "ipython",
    "version": 3
   },
   "file_extension": ".py",
   "mimetype": "text/x-python",
   "name": "python",
   "nbconvert_exporter": "python",
   "pygments_lexer": "ipython3",
   "version": "3.6.9"
  }
 },
 "nbformat": 4,
 "nbformat_minor": 4
}
