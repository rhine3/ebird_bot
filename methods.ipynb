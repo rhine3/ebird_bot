{
 "cells": [
  {
   "cell_type": "markdown",
   "metadata": {},
   "source": [
    "# Authenticate Twitter account"
   ]
  },
  {
   "cell_type": "code",
   "execution_count": 1,
   "metadata": {},
   "outputs": [],
   "source": [
    "import tweepy"
   ]
  },
  {
   "cell_type": "code",
   "execution_count": 2,
   "metadata": {},
   "outputs": [
    {
     "name": "stdout",
     "output_type": "stream",
     "text": [
      "Authentication OK\n"
     ]
    }
   ],
   "source": [
    "from keys import *\n",
    "\n",
    "auth = tweepy.OAuthHandler(API_KEY, API_SECRET_KEY)\n",
    "auth.set_access_token(TOKEN, TOKEN_SECRET)\n",
    "\n",
    "api = tweepy.API(auth)\n",
    "\n",
    "try:\n",
    "    api.verify_credentials()\n",
    "    print(\"Authentication OK\")\n",
    "except:\n",
    "    print(\"Authentication Error\")"
   ]
  },
  {
   "cell_type": "markdown",
   "metadata": {},
   "source": [
    "# Scrape eBird webpage"
   ]
  },
  {
   "cell_type": "code",
   "execution_count": 4,
   "metadata": {},
   "outputs": [],
   "source": [
    "import urllib.request\n",
    "import requests\n",
    "import time\n",
    "from bs4 import BeautifulSoup"
   ]
  },
  {
   "cell_type": "markdown",
   "metadata": {},
   "source": [
    "### Verify a checklist exists"
   ]
  },
  {
   "cell_type": "code",
   "execution_count": 19,
   "metadata": {},
   "outputs": [],
   "source": [
    "def check_checklist_exists(sub_id):\n",
    "    '''\n",
    "    Check that an eBird checklist exists\n",
    "    \n",
    "    Args:\n",
    "        sub_id (int): submission id\n",
    "    \n",
    "    Returns:\n",
    "        url if checklist exists\n",
    "        False if checklist doesn't exist\n",
    "    '''\n",
    "    \n",
    "    sub_id = 'S' + sub_id\n",
    "    checklist_start = 'https://ebird.org/view/checklist/'\n",
    "    url = checklist_start + sub_id\n",
    "    \n",
    "    response = requests.get(url)\n",
    "    \n",
    "    try:\n",
    "        assert str(response) == '<Response [200]>'\n",
    "        return response\n",
    "    except:\n",
    "        assert str(response) == '<Response [400]>'\n",
    "        return False"
   ]
  },
  {
   "cell_type": "code",
   "execution_count": 6,
   "metadata": {},
   "outputs": [],
   "source": [
    "import random"
   ]
  },
  {
   "cell_type": "code",
   "execution_count": 20,
   "metadata": {},
   "outputs": [
    {
     "data": {
      "text/plain": [
       "[<Response [200]>,\n",
       " <Response [200]>,\n",
       " <Response [200]>,\n",
       " <Response [200]>,\n",
       " <Response [200]>,\n",
       " <Response [200]>,\n",
       " <Response [200]>,\n",
       " <Response [200]>,\n",
       " <Response [200]>]"
      ]
     },
     "execution_count": 20,
     "metadata": {},
     "output_type": "execute_result"
    }
   ],
   "source": [
    "numbers = [str(random.randint(0, 59344389)) for _ in range(20000)]\n",
    "responses = []\n",
    "for number in numbers[:10]:\n",
    "    time.sleep(1) # Wait between requests so not overloading eBird\n",
    "    response = check_checklist_exists(number)\n",
    "    if response: responses.append(response)\n",
    "        \n",
    "responses"
   ]
  },
  {
   "cell_type": "markdown",
   "metadata": {},
   "source": [
    "### Parse existing checklist"
   ]
  },
  {
   "cell_type": "code",
   "execution_count": 15,
   "metadata": {},
   "outputs": [],
   "source": [
    "def get_soup(response):\n",
    "    return BeautifulSoup(response.text, \"html.parser\")"
   ]
  },
  {
   "cell_type": "code",
   "execution_count": 9,
   "metadata": {},
   "outputs": [],
   "source": [
    "def add_to_region(region, to_add, sep = ', '):\n",
    "    '''\n",
    "    Append to a string with a separator if necessary\n",
    "    \n",
    "    Inputs:\n",
    "        region: the string to append to\n",
    "        to_add: the thing to append to the string\n",
    "        sep: the separator to add, if string\n",
    "            already contains text\n",
    "    \n",
    "    Returns:\n",
    "        the string with added text\n",
    "    '''\n",
    "    \n",
    "    # If `region` already contains something\n",
    "    if bool(region):\n",
    "        region += sep + to_add\n",
    "        return region\n",
    "    else:\n",
    "        region += to_add\n",
    "        return region"
   ]
  },
  {
   "cell_type": "code",
   "execution_count": 10,
   "metadata": {},
   "outputs": [],
   "source": [
    "def get_region(soup):\n",
    "    \n",
    "    region = ''\n",
    "    \n",
    "    # Find the region as linked to in the eBird text\n",
    "    \n",
    "    for link in soup.findAll('a'):\n",
    "        # Find whether region is in the link address\n",
    "        try:\n",
    "            region_in = \"region\" in link['href']\n",
    "        except:\n",
    "            # No href tag\n",
    "            continue\n",
    "\n",
    "        # If region is in the link address, add it to the region string\n",
    "        if region_in:\n",
    "            string = link.string\n",
    "            # For links in format <a href=''>string</a>\n",
    "            if(bool(string)):\n",
    "                region = add_to_region(region, string)\n",
    "\n",
    "            # For links in format <a href=''><span>string</span></a>\n",
    "            else:\n",
    "                string = link.find('span').string\n",
    "                region = add_to_region(region, string)\n",
    "\n",
    "    return region"
   ]
  },
  {
   "cell_type": "code",
   "execution_count": 25,
   "metadata": {},
   "outputs": [
    {
     "name": "stdout",
     "output_type": "stream",
     "text": [
      "Cuyahoga County, Ohio, United States\n",
      "Arica y Parinacota, Chile\n",
      "Avalon Peninsula-St. John's County, Newfoundland and Labrador, Canada\n",
      "Argenteuil County, Quebec, Canada\n",
      "Rockingham County, New Hampshire, United States\n",
      "Sonoma County, California, United States\n",
      "Jefferson County, Colorado, United States\n",
      "Wake County, North Carolina, United States\n",
      "Minas Gerais, Brazil\n"
     ]
    }
   ],
   "source": [
    "for response in responses:\n",
    "    soup = get_soup(response)\n",
    "    print(get_region(soup))"
   ]
  }
 ],
 "metadata": {
  "kernelspec": {
   "display_name": "Python 3",
   "language": "python",
   "name": "python3"
  },
  "language_info": {
   "codemirror_mode": {
    "name": "ipython",
    "version": 3
   },
   "file_extension": ".py",
   "mimetype": "text/x-python",
   "name": "python",
   "nbconvert_exporter": "python",
   "pygments_lexer": "ipython3",
   "version": "3.6.9"
  }
 },
 "nbformat": 4,
 "nbformat_minor": 4
}
